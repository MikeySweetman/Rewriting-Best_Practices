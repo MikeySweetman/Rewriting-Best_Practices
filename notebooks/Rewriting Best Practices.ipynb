{
 "cells": [
  {
   "cell_type": "markdown",
   "id": "062860f3",
   "metadata": {},
   "source": [
    "# Best Practices: Rewrtiting this notebook using my own code\n",
    "\n",
    "Based off the paper \"Machine Learning for Materials Scientists: An Introductory Guide toward Best Practices\"\n",
    "I am creating my own notebooks on machine learning/train-validate-test splitting etc.\n",
    "The aim of this is to become familiar with packages I have not used before and the general process of creating code that can be used to analyse chemical data available\n",
    "\n",
    "This focus for these notebooks is not to create the most effcient code, but rather create code which helps me learn and understand this procedure, get familiar with new packages, and provide an example to look back on for future reference.\n",
    "This code will therefore be heavily commented in order to make everything extremely explicit for myself in both learning and understanding while I write this, and in order to help me understand what I am doing when reading this again in future"
   ]
  },
  {
   "cell_type": "markdown",
   "id": "a480c9cf",
   "metadata": {},
   "source": [
    "# Data loading, cleanup and processing\n",
    "\n",
    "The first step to a ML project is to obtain the dataset you will be working with. \n",
    "There are many repositories for materials science-specific data (whether online or offline)---consult the accompanying paper for a list of the more commonly used ones.\n",
    "\n",
    "Once you have identified the repository and dataset you will use for your project, you will have to download it to your local machine, or establish a way to reliably access the dataset.\n",
    "Consult the documentation of the repository for how to do this.\n",
    "\n",
    "For this tutorial, we have collected heat capacity ($C_p$) data from the [NIST-JANAF Thermochemical Tables](https://doi.org/10.18434/T42S31)."
   ]
  },
  {
   "cell_type": "code",
   "execution_count": 15,
   "id": "853aaa5a",
   "metadata": {},
   "outputs": [],
   "source": [
    "#importing libraries\n",
    "\n",
    "import os                #This module provides a portable way of using operating system dependent functionality\n",
    "\n",
    "import numpy as np\n",
    "\n",
    "import pandas as pd       #Pandas is a Python library used for working with data sets. \n",
    "                          #It has functions for analyzing, cleaning, exploring, and manipulating data.\n",
    "    \n",
    "import matplotlib.pyplot as plt\n",
    "\n",
    "%matplotlib inline \n",
    "#causes graphs to be shown inline in python (basically pl.show()) is no longer needed when graphing)\n",
    "#This is a bit redundant for the current jupyter as having import matplotlib.pyplot as plt \n",
    "#basically calls this already, but it is good practice to have it in to make everything explicit\n",
    "        \n",
    "%config InlineBackend.figure_format='retina' #displays plots at higher resolution (retina == retina display)\n",
    "                                             #on non retina displays this just makes graphs bigger\n",
    "                                             #NOT REALLY SURE ABOUT THIS NEED TO LOOK INTO!!!\n",
    "        \n",
    "\n",
    "from pandas_profiling import ProfileReport   #Pandas works with DataFrame(basically a spreadsheet)\n",
    "                                             #ProfileReport allows fucntions to be used which are very helpful\n",
    "                                             #in interacting with this datafram\n",
    "                                             #NOT REALLY SURE ABOUT THIS NEED TO LOOK INTO!!!"
   ]
  },
  {
   "cell_type": "markdown",
   "id": "ac3ac353",
   "metadata": {},
   "source": [
    "## Load data\n",
    "\n",
    "Using Pandas, we read in the dataset into a DataFrame. \n",
    "\n",
    "We also print the shape of the DataFrame, which indicates the number of rows and columns in this dataset."
   ]
  },
  {
   "cell_type": "code",
   "execution_count": 16,
   "id": "171b3004",
   "metadata": {},
   "outputs": [
    {
     "name": "stdout",
     "output_type": "stream",
     "text": [
      "Original DataFrame shape: (4583, 3)\n"
     ]
    }
   ],
   "source": [
    "PATH = os.getcwd() #The os.getcwd() method is used to get the current working directory of a process.\n",
    "                   #current working directory is C:\\Users\\sweet\\Desktop\\FYP\\code\n",
    "\n",
    "data_path = os.path.join(PATH, \"../data_for_notebook_bestpractice/cp_data_demo.csv\") #links this path and\n",
    "#'../data_for_notebook_bestpractice/cp_data_demo.csv' with cwd\n",
    "#NOCLUE WHY .. AND FORWARD SLASHES ARE USED\n",
    "\n",
    "df = pd.read_csv(data_path) #reads the csv from the location it is told to (the data_path that was created)\n",
    "\n",
    "print(\"Original DataFrame shape:\", df.shape) #df.shape gives rows x colums of dataframe"
   ]
  },
  {
   "cell_type": "markdown",
   "id": "013ba6cf",
   "metadata": {},
   "source": [
    "This means that our input dataset has 4583 data samples, each with 3 variables."
   ]
  },
  {
   "cell_type": "markdown",
   "id": "8571131f",
   "metadata": {},
   "source": [
    "## Examine the data\n",
    "\n",
    "We examine some rows and look at the data's basic statistics.\n",
    "\n",
    "We see that the dataset contains information about the formula, measurement condition (in this case, temperature in K), and the target property, heat capacity (in J/(mol * K))."
   ]
  },
  {
   "cell_type": "code",
   "execution_count": 17,
   "id": "f2c174e6",
   "metadata": {},
   "outputs": [
    {
     "data": {
      "text/html": [
       "<div>\n",
       "<style scoped>\n",
       "    .dataframe tbody tr th:only-of-type {\n",
       "        vertical-align: middle;\n",
       "    }\n",
       "\n",
       "    .dataframe tbody tr th {\n",
       "        vertical-align: top;\n",
       "    }\n",
       "\n",
       "    .dataframe thead th {\n",
       "        text-align: right;\n",
       "    }\n",
       "</style>\n",
       "<table border=\"1\" class=\"dataframe\">\n",
       "  <thead>\n",
       "    <tr style=\"text-align: right;\">\n",
       "      <th></th>\n",
       "      <th>FORMULA</th>\n",
       "      <th>CONDITION: Temperature (K)</th>\n",
       "      <th>PROPERTY: Heat Capacity (J/mol K)</th>\n",
       "    </tr>\n",
       "  </thead>\n",
       "  <tbody>\n",
       "    <tr>\n",
       "      <th>0</th>\n",
       "      <td>B2O3</td>\n",
       "      <td>1400.0</td>\n",
       "      <td>134.306</td>\n",
       "    </tr>\n",
       "    <tr>\n",
       "      <th>1</th>\n",
       "      <td>B2O3</td>\n",
       "      <td>1300.0</td>\n",
       "      <td>131.294</td>\n",
       "    </tr>\n",
       "    <tr>\n",
       "      <th>2</th>\n",
       "      <td>B2O3</td>\n",
       "      <td>1200.0</td>\n",
       "      <td>128.072</td>\n",
       "    </tr>\n",
       "    <tr>\n",
       "      <th>3</th>\n",
       "      <td>B2O3</td>\n",
       "      <td>1100.0</td>\n",
       "      <td>124.516</td>\n",
       "    </tr>\n",
       "    <tr>\n",
       "      <th>4</th>\n",
       "      <td>B2O3</td>\n",
       "      <td>1000.0</td>\n",
       "      <td>120.625</td>\n",
       "    </tr>\n",
       "    <tr>\n",
       "      <th>5</th>\n",
       "      <td>B2O3</td>\n",
       "      <td>900.0</td>\n",
       "      <td>116.190</td>\n",
       "    </tr>\n",
       "    <tr>\n",
       "      <th>6</th>\n",
       "      <td>B2O3</td>\n",
       "      <td>800.0</td>\n",
       "      <td>111.169</td>\n",
       "    </tr>\n",
       "    <tr>\n",
       "      <th>7</th>\n",
       "      <td>B2O3</td>\n",
       "      <td>723.0</td>\n",
       "      <td>106.692</td>\n",
       "    </tr>\n",
       "    <tr>\n",
       "      <th>8</th>\n",
       "      <td>B2O3</td>\n",
       "      <td>700.0</td>\n",
       "      <td>105.228</td>\n",
       "    </tr>\n",
       "    <tr>\n",
       "      <th>9</th>\n",
       "      <td>B2O3</td>\n",
       "      <td>600.0</td>\n",
       "      <td>98.115</td>\n",
       "    </tr>\n",
       "  </tbody>\n",
       "</table>\n",
       "</div>"
      ],
      "text/plain": [
       "  FORMULA  CONDITION: Temperature (K)  PROPERTY: Heat Capacity (J/mol K)\n",
       "0    B2O3                      1400.0                            134.306\n",
       "1    B2O3                      1300.0                            131.294\n",
       "2    B2O3                      1200.0                            128.072\n",
       "3    B2O3                      1100.0                            124.516\n",
       "4    B2O3                      1000.0                            120.625\n",
       "5    B2O3                       900.0                            116.190\n",
       "6    B2O3                       800.0                            111.169\n",
       "7    B2O3                       723.0                            106.692\n",
       "8    B2O3                       700.0                            105.228\n",
       "9    B2O3                       600.0                             98.115"
      ]
     },
     "execution_count": 17,
     "metadata": {},
     "output_type": "execute_result"
    }
   ],
   "source": [
    "df.head(10) #.head(n) returns the first n rows of the dataframe"
   ]
  },
  {
   "cell_type": "markdown",
   "id": "d37c6d43",
   "metadata": {},
   "source": [
    "First thing you should notice: we have many observations of the same compound (B2O3) but measured at different measurement conditions, resulting in a different property value.\n",
    "\n",
    "We can get some simple summary statistics of the DataFrame by calling the `.describe()` method on the database."
   ]
  },
  {
   "cell_type": "code",
   "execution_count": 18,
   "id": "31738532",
   "metadata": {},
   "outputs": [
    {
     "data": {
      "text/html": [
       "<div>\n",
       "<style scoped>\n",
       "    .dataframe tbody tr th:only-of-type {\n",
       "        vertical-align: middle;\n",
       "    }\n",
       "\n",
       "    .dataframe tbody tr th {\n",
       "        vertical-align: top;\n",
       "    }\n",
       "\n",
       "    .dataframe thead th {\n",
       "        text-align: right;\n",
       "    }\n",
       "</style>\n",
       "<table border=\"1\" class=\"dataframe\">\n",
       "  <thead>\n",
       "    <tr style=\"text-align: right;\">\n",
       "      <th></th>\n",
       "      <th>CONDITION: Temperature (K)</th>\n",
       "      <th>PROPERTY: Heat Capacity (J/mol K)</th>\n",
       "    </tr>\n",
       "  </thead>\n",
       "  <tbody>\n",
       "    <tr>\n",
       "      <th>count</th>\n",
       "      <td>4579.000000</td>\n",
       "      <td>4576.000000</td>\n",
       "    </tr>\n",
       "    <tr>\n",
       "      <th>mean</th>\n",
       "      <td>1170.920341</td>\n",
       "      <td>107.483627</td>\n",
       "    </tr>\n",
       "    <tr>\n",
       "      <th>std</th>\n",
       "      <td>741.254366</td>\n",
       "      <td>67.019055</td>\n",
       "    </tr>\n",
       "    <tr>\n",
       "      <th>min</th>\n",
       "      <td>-2000.000000</td>\n",
       "      <td>-102.215000</td>\n",
       "    </tr>\n",
       "    <tr>\n",
       "      <th>25%</th>\n",
       "      <td>600.000000</td>\n",
       "      <td>61.312500</td>\n",
       "    </tr>\n",
       "    <tr>\n",
       "      <th>50%</th>\n",
       "      <td>1000.000000</td>\n",
       "      <td>89.497000</td>\n",
       "    </tr>\n",
       "    <tr>\n",
       "      <th>75%</th>\n",
       "      <td>1600.000000</td>\n",
       "      <td>135.645000</td>\n",
       "    </tr>\n",
       "    <tr>\n",
       "      <th>max</th>\n",
       "      <td>4700.000000</td>\n",
       "      <td>494.967000</td>\n",
       "    </tr>\n",
       "  </tbody>\n",
       "</table>\n",
       "</div>"
      ],
      "text/plain": [
       "       CONDITION: Temperature (K)  PROPERTY: Heat Capacity (J/mol K)\n",
       "count                 4579.000000                        4576.000000\n",
       "mean                  1170.920341                         107.483627\n",
       "std                    741.254366                          67.019055\n",
       "min                  -2000.000000                        -102.215000\n",
       "25%                    600.000000                          61.312500\n",
       "50%                   1000.000000                          89.497000\n",
       "75%                   1600.000000                         135.645000\n",
       "max                   4700.000000                         494.967000"
      ]
     },
     "execution_count": 18,
     "metadata": {},
     "output_type": "execute_result"
    }
   ],
   "source": [
    "df.describe() #It returns the statistical summary of the Series and DataFrame."
   ]
  },
  {
   "cell_type": "markdown",
   "id": "32156ef8",
   "metadata": {},
   "source": [
    "Using the `pandas-profiling` library, we can generate a more in-depth report of our starting dataset.\n",
    "Note that generating this profile report might take upwards of 20 seconds."
   ]
  },
  {
   "cell_type": "code",
   "execution_count": 19,
   "id": "4036fe37",
   "metadata": {},
   "outputs": [
    {
     "data": {
      "application/vnd.jupyter.widget-view+json": {
       "model_id": "b00180ded5b6441cbc9837946cb59be0",
       "version_major": 2,
       "version_minor": 0
      },
      "text/plain": [
       "Summarize dataset:   0%|          | 0/17 [00:00<?, ?it/s]"
      ]
     },
     "metadata": {},
     "output_type": "display_data"
    },
    {
     "data": {
      "application/vnd.jupyter.widget-view+json": {
       "model_id": "d96295a08f734b48868b8b6ad943cf6e",
       "version_major": 2,
       "version_minor": 0
      },
      "text/plain": [
       "Generate report structure:   0%|          | 0/1 [00:00<?, ?it/s]"
      ]
     },
     "metadata": {},
     "output_type": "display_data"
    },
    {
     "data": {
      "application/vnd.jupyter.widget-view+json": {
       "model_id": "",
       "version_major": 2,
       "version_minor": 0
      },
      "text/plain": [
       "Render widgets:   0%|          | 0/1 [00:00<?, ?it/s]"
      ]
     },
     "metadata": {},
     "output_type": "display_data"
    },
    {
     "data": {
      "application/vnd.jupyter.widget-view+json": {
       "model_id": "a565f03b4e2f4087b7074fd475a1413a",
       "version_major": 2,
       "version_minor": 0
      },
      "text/plain": [
       "VBox(children=(Tab(children=(Tab(children=(GridBox(children=(VBox(children=(GridspecLayout(children=(HTML(valu…"
      ]
     },
     "metadata": {},
     "output_type": "display_data"
    }
   ],
   "source": [
    "profile = ProfileReport(df) #this creates a detailed review of the dataframe\n",
    "#original notebook uses ProfileReport()\n",
    "#df.copy(), title='Pandas Profiling Report of Cp dataset', html={'style':{'full_width':True}})\n",
    "#no idea what the hell df.copy(), title='Pandas Profiling Report of Cp dataset', html={'style':{'full_width':True}} does\n",
    "#output looks the exact same to me when I leave it out so I'll ignore it for now\n",
    "\n",
    "profile.to_widgets() #prints out a tidier interactive window instead of having to scroll for everything"
   ]
  },
  {
   "cell_type": "markdown",
   "id": "a0687202",
   "metadata": {},
   "source": [
    "Notice a few things from the profile report:\n",
    "* We have some missing cells in the dataset (\"Overview\" tab)\n",
    "* We have some unrealistic Temperature and Heat Capacity values in the dataset (\"Variables\" tab)\n",
    "* We have some missing Temperature, Formula and Heat Capacity values in the dataset (\"Variables\" tab)\n",
    "\n",
    "Also notice that on the \"Overview\" tab, there is the following warning: `FORMULA` has a high cardinality: 245 distinct values.\n",
    "\n",
    "Cardinality is the number of distinct values in a column of a table, relative to the number of rows in the table.\n",
    "In our dataset, we have a total of 4583 data observations, but only 245 distinct formulae.\n",
    "We will have to keep this in mind later, when we process and split the dataset."
   ]
  },
  {
   "cell_type": "markdown",
   "id": "37617ca3",
   "metadata": {},
   "source": [
    "## Rename the column names for brevity"
   ]
  },
  {
   "cell_type": "code",
   "execution_count": 20,
   "id": "f62668eb",
   "metadata": {},
   "outputs": [
    {
     "data": {
      "text/plain": [
       "Index(['FORMULA', 'CONDITION: Temperature (K)',\n",
       "       'PROPERTY: Heat Capacity (J/mol K)'],\n",
       "      dtype='object')"
      ]
     },
     "execution_count": 20,
     "metadata": {},
     "output_type": "execute_result"
    }
   ],
   "source": [
    "df.columns"
   ]
  },
  {
   "cell_type": "code",
   "execution_count": 21,
   "id": "3132ddb6",
   "metadata": {},
   "outputs": [
    {
     "data": {
      "text/plain": [
       "Index(['formula', 'T', 'Cp'], dtype='object')"
      ]
     },
     "execution_count": 21,
     "metadata": {},
     "output_type": "execute_result"
    }
   ],
   "source": [
    "new_col_names = {\"FORMULA\" : \"formula\"                #creating variable for renaming columns\n",
    "                 , \"CONDITION: Temperature (K)\" : \"T\"\n",
    "                , \"PROPERTY: Heat Capacity (J/mol K)\" : \"Cp\"}\n",
    "\n",
    "df = df.rename(columns = new_col_names) #assigning new column names to df\n",
    "df.columns"
   ]
  },
  {
   "cell_type": "markdown",
   "id": "3730fde3",
   "metadata": {},
   "source": [
    "## Check for and remove `NaN` values"
   ]
  },
  {
   "cell_type": "markdown",
   "id": "4f150622",
   "metadata": {},
   "source": [
    "Here we can use the built-in Pandas methods to check for `NaN` values in the dataset, which are missing values.\n",
    "We then remove the dataset rows which contain `NaN` values."
   ]
  },
  {
   "cell_type": "code",
   "execution_count": 22,
   "id": "f0a5e675",
   "metadata": {},
   "outputs": [
    {
     "name": "stdout",
     "output_type": "stream",
     "text": [
      "DataFrame shape before dropping NaNs: (4583, 3)\n",
      "DataFrame shape before dropping NaNs: (4570, 3)\n"
     ]
    }
   ],
   "source": [
    "#Check for NaNs in the respective dataset columns, and get the indices\n",
    "df2 = df.copy() #copying the original dataframe and manipulating that so that the original dataframe isn't\n",
    "                #altered in case a mistake is made\n",
    "#isnull() This function takes a scalar or array-like object and indicates whether values are missing\n",
    "#(NaN in numeric arrays, None or NaN in object arrays, NaT in datetimelike).\n",
    "\n",
    "bool_nan_formula = pd.isnull(df2[\"formula\"]) #using different syntax here but I think it does the same and makes way more sense this way\n",
    "bool_nan_T = pd.isnull(df2[\"T\"])\n",
    "bool_nan_Cp = pd.isnull(df2[\"Cp\"])\n",
    "\n",
    "#Drop the rows of the DataFrame which contain NaNs\n",
    "\n",
    "#The drop() method removes the specified row or column.\n",
    "#By specifying the column axis (axis='columns'), the drop() method removes the specified column.\n",
    "#By specifying the row axis (axis='index'), the drop() method removes the specified row.\n",
    "df2 = df2.drop(df2.loc[bool_nan_formula].index, axis = \"index\")        #df2 = df2.drop(df2.loc[bool_nans_formula].index, axis=0)\n",
    "#DONTUNDERSTANDWHY IT ONLY DROPS TRUE VALUES\n",
    "#axis = 0 and axis = \"index\" are the same I'm pretty sure\n",
    "#df2.loc[bool_nan_formula].index gives the indexes (in this case row values) of the rows in bool_nan_formula\n",
    "#therefore above code drops all the rows for which bool_nan_formula == True??\n",
    "df2 = df2.drop(df2.loc[bool_nan_T].index, axis = \"index\")\n",
    "df2 = df2.drop(df2.loc[bool_nan_Cp].index, axis = \"index\")\n",
    "\n",
    "print(\"DataFrame shape before dropping NaNs:\", df.shape)\n",
    "print(\"DataFrame shape before dropping NaNs:\", df2.shape)\n",
    "\n",
    "#I don't understand what the difference between using df2.loc[] and just df2[] is but\n",
    "#not using .loc gives the error: Boolean Series key will be reindexed to match DataFrame index.\n"
   ]
  },
  {
   "cell_type": "markdown",
   "id": "ee0edcbe",
   "metadata": {},
   "source": [
    "Pandas also includes the convenient built-in method `.dropna()` to check for and remove `NaNs` in-place:"
   ]
  },
  {
   "cell_type": "code",
   "execution_count": 23,
   "id": "41f64027",
   "metadata": {},
   "outputs": [
    {
     "name": "stdout",
     "output_type": "stream",
     "text": [
      "DataFrame before removing NaN: (4583, 3)\n",
      "DataFrame before removing NaN: (4570, 3)\n"
     ]
    }
   ],
   "source": [
    "df3 = df.copy()\n",
    "df3 = df3.dropna(axis = \"index\", how = \"any\") #how is any or all. removes if \"any\" are nan. removes if \"all\" are nan\n",
    "\n",
    "print(\"DataFrame before removing NaN:\", df.shape)\n",
    "print(\"DataFrame before removing NaN:\", df3.shape)\n",
    "\n",
    "df = df3.copy()"
   ]
  },
  {
   "cell_type": "markdown",
   "id": "2c65ad97",
   "metadata": {},
   "source": [
    "## Check for and remove unrealistic values\n",
    "\n",
    "In some cases, you might also get data values that simply don't make sense.\n",
    "For our dase, this could be negative values in the temperature or heat capacity values."
   ]
  },
  {
   "cell_type": "code",
   "execution_count": 24,
   "id": "5c115edf",
   "metadata": {},
   "outputs": [
    {
     "name": "stdout",
     "output_type": "stream",
     "text": [
      "DataFrame before removing NaN: (4564, 3)\n"
     ]
    }
   ],
   "source": [
    "invalid_T = df['T'] < 0\n",
    "invalid_Cp = df['Cp'] < 0\n",
    "\n",
    "df = df.drop(df.loc[invalid_T].index, axis = 0)\n",
    "df = df.drop(df.loc[invalid_Cp].index, axis = 0)\n",
    "\n",
    "print(\"DataFrame before removing NaN:\", df.shape)"
   ]
  },
  {
   "cell_type": "markdown",
   "id": "9129f856",
   "metadata": {},
   "source": [
    "## Save cleaned data to csv\n",
    "\n",
    "Finally, after cleaning and processing the data, you can save it to disk in a cleaned state for you to use later.\n",
    "\n",
    "Pandas allows us to save our data as a comma separated value `.csv` file. "
   ]
  },
  {
   "cell_type": "code",
   "execution_count": 25,
   "id": "e3046c4a",
   "metadata": {},
   "outputs": [],
   "source": [
    "out_path = os.path.join(PATH, \"../data_for_notebook_bestpractice/cp_data_cleaned_by_me.csv\")\n",
    "df.to_csv(out_path, index = False) #false means a column of indexes is not added, true would add an index column"
   ]
  }
 ],
 "metadata": {
  "kernelspec": {
   "display_name": "Python 3 (ipykernel)",
   "language": "python",
   "name": "python3"
  },
  "language_info": {
   "codemirror_mode": {
    "name": "ipython",
    "version": 3
   },
   "file_extension": ".py",
   "mimetype": "text/x-python",
   "name": "python",
   "nbconvert_exporter": "python",
   "pygments_lexer": "ipython3",
   "version": "3.9.7"
  }
 },
 "nbformat": 4,
 "nbformat_minor": 5
}
