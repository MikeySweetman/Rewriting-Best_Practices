{
 "cells": [
  {
   "cell_type": "markdown",
   "id": "553db6d3",
   "metadata": {},
   "source": [
    "# Messing around with code so I can figure out what it does\n",
    "\n",
    "In this notepad I will be using funcitions or general code stuff I didn't understand, and mess around with them so I can understand what they do. Once I figure out what it does/how it works/etc I will right a little description and give a clear example of its use.\n",
    "\n",
    "I have created an simple excel file which is what I will be taking my data from. This makes it easier to see a before/after"
   ]
  },
  {
   "cell_type": "code",
   "execution_count": 161,
   "id": "d37784a5",
   "metadata": {},
   "outputs": [],
   "source": [
    "#importing all the things\n",
    "import os\n",
    "import numpy as np\n",
    "import pandas as pd\n",
    "import matplotlib.pyplot as plt\n",
    "%matplotlib inline\n",
    "%config InlineBackend.figure_format='retina'\n",
    "from pandas_profiling import ProfileReport\n",
    "RNG_SEED = 42\n",
    "np.random.seed(seed = RNG_SEED)"
   ]
  },
  {
   "cell_type": "code",
   "execution_count": 162,
   "id": "80286c83",
   "metadata": {},
   "outputs": [
    {
     "name": "stdout",
     "output_type": "stream",
     "text": [
      "C:\\Users\\sweet\\Documents\\GitHub\\Rewriting-Best_Practices\\notebooks\n",
      "C:\\Users\\sweet\\Documents\\GitHub\\Rewriting-Best_Practices\\notebooks\\../bullshit/messin.xlsx\n",
      "     x  y I made up      sinx for bools  f for f\n",
      "0    0         0.00  0.000000         1        0\n",
      "1    1         0.50  0.841471         f        1\n",
      "2    2         1.00  0.909297         1       -1\n",
      "3    3         1.50  0.141120       NaN       -4\n",
      "4    4         2.00 -0.756802         1       -5\n",
      "5    5         2.50 -0.958924       NaN        5\n",
      "6    6         3.00 -0.279415         1        6\n",
      "7    7         3.75  0.656987       NaN      -35\n",
      "8    8         4.50  0.989358         1        8\n",
      "9    9         9.00  0.412118       NaN       -2\n",
      "10  10         6.00 -0.544021         1       10\n",
      "11  11         5.00 -0.999990       NaN     -100\n",
      "12  12         8.00 -0.536573         1       -1\n",
      "13  13         7.00  0.420167         2        3\n",
      "14  14         9.00  0.990607         1       -1\n",
      "15  15        10.00  0.650288       NaN       15\n",
      "16  16        12.00 -0.287903         1       16\n",
      "17  17        15.00 -0.961397       NaN       17\n",
      "18  18        18.00 -0.750987         1      -12\n",
      "19  19        21.00  0.149877       NaN       19\n",
      "20  20        18.00  0.912945         1       20\n",
      "21  21        12.00  0.836656       NaN       21\n",
      "22  22         8.00 -0.008851         1       -5\n",
      "23  23         4.00 -0.846220         1       23\n",
      "24  24         2.00 -0.905578         1       -2\n",
      "25  25         0.00 -0.132352         1       25\n"
     ]
    }
   ],
   "source": [
    "#importing data\n",
    "PATH = os.getcwd()\n",
    "print(PATH)\n",
    "\n",
    "data_path = os.path.join(PATH, \"../bullshit/messin.xlsx\")\n",
    "print(data_path)\n",
    "\n",
    "df = pd.read_excel(data_path) #note that not using .read_csv\n",
    "print(df)"
   ]
  },
  {
   "cell_type": "markdown",
   "id": "cfad82d6",
   "metadata": {},
   "source": [
    "## df.loc[] and df.iloc[]"
   ]
  },
  {
   "cell_type": "code",
   "execution_count": 163,
   "id": "2d0f797e",
   "metadata": {},
   "outputs": [
    {
     "name": "stdout",
     "output_type": "stream",
     "text": [
      "x                     7\n",
      "y I made up        3.75\n",
      "sinx           0.656987\n",
      "for bools           NaN\n",
      "f for f             -35\n",
      "Name: bob, dtype: object\n",
      "\n",
      "      x  y I made up      sinx for bools  f for f\n",
      "bob  7         3.75  0.656987       NaN      -35\n",
      "rob  9         9.00  0.412118       NaN       -2\n",
      "1    1         0.50  0.841471         f        1\n",
      "\n",
      " Index(['x', 'y I made up', 'sinx', 'for bools', 'f for f'], dtype='object')\n",
      "\n",
      " Index(['bob', 'rob', 1], dtype='object')\n",
      "\n",
      "\n",
      "Now using .iloc instead of .loc\n",
      "\n",
      " x                     7\n",
      "y I made up        3.75\n",
      "sinx           0.656987\n",
      "for bools           NaN\n",
      "f for f             -35\n",
      "Name: bob, dtype: object\n",
      "\n",
      "       x  y I made up      sinx for bools  f for f\n",
      "bob   7         3.75  0.656987       NaN      -35\n",
      "pete  8         4.50  0.989358         1        8\n",
      "1     1         0.50  0.841471         f        1\n",
      "\n",
      "\n",
      "\n",
      " 0       False\n",
      "1       False\n",
      "2       False\n",
      "3        True\n",
      "4       False\n",
      "5        True\n",
      "6       False\n",
      "bob      True\n",
      "pete    False\n",
      "rob      True\n",
      "10      False\n",
      "11       True\n",
      "12      False\n",
      "13      False\n",
      "14      False\n",
      "15       True\n",
      "16      False\n",
      "17       True\n",
      "18      False\n",
      "19       True\n",
      "20      False\n",
      "21       True\n",
      "22      False\n",
      "23      False\n",
      "24      False\n",
      "25      False\n",
      "Name: for bools, dtype: bool\n",
      "\n",
      " Index([3, 5, 'bob', 'rob', 11, 15, 17, 19, 21], dtype='object')\n"
     ]
    }
   ],
   "source": [
    "#Renaming a few indexes just to show\n",
    "rename_789 = {7:\"bob\",8:\"pete\",9:\"rob\"}\n",
    "df = df.rename(rename_789)\n",
    "\n",
    "#finding single row\n",
    "example = df.loc[\"bob\"]\n",
    "print(example)\n",
    "\n",
    "#finding many rows\n",
    "example = df.loc[[\"bob\",\"rob\", 1]]\n",
    "print(\"\\n\",example)\n",
    "\n",
    "#using the .index for both of the above\n",
    "example = df.loc[\"bob\"].index #df.loc[] returns column heading as indicies and row values as columns\n",
    "print(\"\\n\",example)           #this means .index will return column heading, as they are now indicies\n",
    "\n",
    "example = df.loc[[\"bob\",\"rob\", 1]].index #df.loc[[]] returns a mini dataframe, no swapping of column headers to indicies\n",
    "print(\"\\n\",example)                      #therefore just returns indicies\n",
    "\n",
    "\n",
    "#.iloc just does this by integer positions instead of labels, from 0 to len - 1\n",
    "print(f\"\\n\\nNow using .iloc instead of .loc\")\n",
    "#example = df.iloc[\"bob\"]          THIS GIVES AN ERROR, PROPER USE BELOW\n",
    "#print(\"\\n\",example)\n",
    "example = df.iloc[7] #bob is index 7 in the df\n",
    "print(\"\\n\",example)\n",
    "\n",
    "example = df.iloc[[7,8,1]]\n",
    "print(\"\\n\",example)\n",
    "\n",
    "#using it for bools\n",
    "bool_nan = pd.isnull(df[\"for bools\"])\n",
    "print(\"\\n\\n\\n\", bool_nan)\n",
    "example = df.loc[bool_nan].index\n",
    "print(\"\\n\",example)\n"
   ]
  },
  {
   "cell_type": "markdown",
   "id": "663cc0c4",
   "metadata": {},
   "source": [
    "# [f for f in all_formulae if f not in val_formulae]"
   ]
  },
  {
   "cell_type": "code",
   "execution_count": 164,
   "id": "36a9bf46",
   "metadata": {},
   "outputs": [
    {
     "name": "stdout",
     "output_type": "stream",
     "text": [
      "       x  y I made up      sinx for bools  f for f\n",
      "0      0         0.00  0.000000         1        0\n",
      "1      1         0.50  0.841471         f        1\n",
      "2      2         1.00  0.909297         1       -1\n",
      "3      3         1.50  0.141120       NaN       -4\n",
      "4      4         2.00 -0.756802         1       -5\n",
      "5      5         2.50 -0.958924       NaN        5\n",
      "6      6         3.00 -0.279415         1        6\n",
      "bob    7         3.75  0.656987       NaN      -35\n",
      "pete   8         4.50  0.989358         1        8\n",
      "rob    9         9.00  0.412118       NaN       -2\n",
      "10    10         6.00 -0.544021         1       10\n",
      "11    11         5.00 -0.999990       NaN     -100\n",
      "12    12         8.00 -0.536573         1       -1\n",
      "13    13         7.00  0.420167         2        3\n",
      "14    14         9.00  0.990607         1       -1\n",
      "15    15        10.00  0.650288       NaN       15\n",
      "16    16        12.00 -0.287903         1       16\n",
      "17    17        15.00 -0.961397       NaN       17\n",
      "18    18        18.00 -0.750987         1      -12\n",
      "19    19        21.00  0.149877       NaN       19\n",
      "20    20        18.00  0.912945         1       20\n",
      "21    21        12.00  0.836656       NaN       21\n",
      "22    22         8.00 -0.008851         1       -5\n",
      "23    23         4.00 -0.846220         1       23\n",
      "24    24         2.00 -0.905578         1       -2\n",
      "25    25         0.00 -0.132352         1       25\n",
      "\n",
      "\n",
      " [-1, -4, -5, -35, 8, -2, -100, -1, -1, -12, -5, -2]\n",
      "\n",
      "\n",
      " [0, 1, 5, 6, 10, 3, 15, 16, 17, 19, 20, 21, 23, 25]\n"
     ]
    }
   ],
   "source": [
    "#look at original dataframe and then seperate important columns\n",
    "print(df)\n",
    "\n",
    "x = df[\"x\"]\n",
    "new_x = df[\"f for f\"]\n",
    "\n",
    "#creating a new list thing removing all values from x that are in f for for\n",
    "\n",
    "#new_list0 = [f for f in new_x]\n",
    "\n",
    "new_list1 = [f for f in new_x if f not in x]\n",
    "new_list2 = [f for f in new_x if f in x]\n",
    "#puts value at index f, where f is iterated from 0 to len(new_x), , if this f not in x\n",
    "#NB: if two values are at different indicies, this doesn't matter, will find all in common/not in common\n",
    "\n",
    "\n",
    "#print(f\"\\n\\n\\nnewlist0\\n{new_list0}\\n\")\n",
    "print(\"\\n\\n\",new_list1)\n",
    "print(\"\\n\\n\", new_list2)"
   ]
  },
  {
   "cell_type": "markdown",
   "id": "c514dc24",
   "metadata": {},
   "source": [
    "# Scaling and normalising"
   ]
  },
  {
   "cell_type": "code",
   "execution_count": 165,
   "id": "45576d9b",
   "metadata": {},
   "outputs": [],
   "source": [
    "from sklearn.preprocessing import StandardScaler\n",
    "from sklearn.preprocessing import normalize\n",
    "\n",
    "scaler = StandardScaler()"
   ]
  },
  {
   "cell_type": "code",
   "execution_count": 166,
   "id": "f288ba1d",
   "metadata": {},
   "outputs": [
    {
     "name": "stdout",
     "output_type": "stream",
     "text": [
      "       x  y I made up\n",
      "0      0         0.00\n",
      "1      1         0.50\n",
      "2      2         1.00\n",
      "3      3         1.50\n",
      "4      4         2.00\n",
      "5      5         2.50\n",
      "6      6         3.00\n",
      "bob    7         3.75\n",
      "pete   8         4.50\n",
      "rob    9         9.00\n",
      "10    10         6.00\n",
      "11    11         5.00\n",
      "12    12         8.00\n",
      "13    13         7.00\n",
      "14    14         9.00\n",
      "15    15        10.00\n",
      "16    16        12.00\n",
      "17    17        15.00\n",
      "18    18        18.00\n",
      "19    19        21.00\n",
      "20    20        18.00\n",
      "21    21        12.00\n",
      "22    22         8.00\n",
      "23    23         4.00\n",
      "24    24         2.00\n",
      "25    25         0.00\n"
     ]
    },
    {
     "data": {
      "image/png": "[encoded data removed]",
      "text/plain": [
       "<Figure size 432x288 with 1 Axes>"
      ]
     },
     "metadata": {
      "image/png": {
       "height": 277,
       "width": 382
      },
      "needs_background": "light"
     },
     "output_type": "display_data"
    }
   ],
   "source": [
    "x = df[\"x\"]\n",
    "y = df[\"y I made up\"]\n",
    "\n",
    "data = df[[\"x\",\"y I made up\"]]\n",
    "print(data)\n",
    "\n",
    "plt.xlabel(\"x\")\n",
    "plt.ylabel(\"y\")\n",
    "plt.title(\"x and y before scaling and normalising\")\n",
    "\n",
    "plt.scatter(x,y)\n",
    "plt.plot(x,y)\n",
    "\n",
    "plt.show()"
   ]
  },
  {
   "cell_type": "code",
   "execution_count": 167,
   "id": "cbc25fd3",
   "metadata": {},
   "outputs": [
    {
     "name": "stdout",
     "output_type": "stream",
     "text": [
      "StandardScaler() \n",
      "\n",
      "\n",
      "[[-1.66666667 -1.19831396]\n",
      " [-1.53333333 -1.11307138]\n",
      " [-1.4        -1.0278288 ]\n",
      " [-1.26666667 -0.94258622]\n",
      " [-1.13333333 -0.85734364]\n",
      " [-1.         -0.77210106]\n",
      " [-0.86666667 -0.68685848]\n",
      " [-0.73333333 -0.55899461]\n",
      " [-0.6        -0.43113074]\n",
      " [-0.46666667  0.33605248]\n",
      " [-0.33333333 -0.175403  ]\n",
      " [-0.2        -0.34588816]\n",
      " [-0.06666667  0.16556732]\n",
      " [ 0.06666667 -0.00491784]\n",
      " [ 0.2         0.33605248]\n",
      " [ 0.33333333  0.50653764]\n",
      " [ 0.46666667  0.84750796]\n",
      " [ 0.6         1.35896344]\n",
      " [ 0.73333333  1.87041892]\n",
      " [ 0.86666667  2.3818744 ]\n",
      " [ 1.          1.87041892]\n",
      " [ 1.13333333  0.84750796]\n",
      " [ 1.26666667  0.16556732]\n",
      " [ 1.4        -0.51637332]\n",
      " [ 1.53333333 -0.85734364]\n",
      " [ 1.66666667 -1.19831396]]\n",
      "[-1.66666667 -1.19831396]\n"
     ]
    }
   ],
   "source": [
    "datafit = scaler.fit(data)\n",
    "print(datafit,\"\\n\\n\")\n",
    "\n",
    "data_scaled = scaler.transform(data)\n",
    "print(data_scaled)\n",
    "\n",
    "pee = data_scaled[0]\n",
    "print(pee)\n",
    "#x = data_scaled[\"x\"]\n",
    "#y = data_scaled[\"y I made up\"]"
   ]
  },
  {
   "cell_type": "code",
   "execution_count": 168,
   "id": "5076d316",
   "metadata": {},
   "outputs": [],
   "source": [
    "xx = [0]*27\n",
    "for i in range(27):\n",
    "    xx[i] += -5/3 +i*(2/15)\n",
    "    \n",
    "yy = [-1.19831396,-1.11307138, -1.0278288, -0.94258622, -0.85734364, -0.77210106, -0.68685848,-0.55899461,-0.43113074,0.33605248,-0.175403,-0.34588816,0.16556732,-0.00491784,0.33605248,0.50653764,0.84750796,1.35896344,1.87041892,2.3818744,1.87041892, 0.84750796,0.16556732,-0.51637332,-0.85734364,-1.19831396,-1.19831396]"
   ]
  },
  {
   "cell_type": "code",
   "execution_count": 169,
   "id": "12490cec",
   "metadata": {},
   "outputs": [
    {
     "data": {
      "image/png": "[encoded data removed]",
      "text/plain": [
       "<Figure size 432x288 with 1 Axes>"
      ]
     },
     "metadata": {
      "image/png": {
       "height": 277,
       "width": 380
      },
      "needs_background": "light"
     },
     "output_type": "display_data"
    }
   ],
   "source": [
    "plt.title(\"After scaling, now centred at zero\\nnotice shape is unchanged\")\n",
    "\n",
    "plt.scatter(xx,yy)\n",
    "plt.plot(xx,yy)\n",
    "\n",
    "plt.show()"
   ]
  },
  {
   "cell_type": "code",
   "execution_count": 170,
   "id": "aca374c1",
   "metadata": {},
   "outputs": [
    {
     "name": "stdout",
     "output_type": "stream",
     "text": [
      "[[-0.81192364 -0.58376366]\n",
      " [-0.80925798 -0.58745341]\n",
      " [-0.80608579 -0.5917987 ]\n",
      " [-0.80224822 -0.59699062]\n",
      " [-0.7975127  -0.60330216]\n",
      " [-0.79152476 -0.6111371 ]\n",
      " [-0.78371681 -0.62111831]\n",
      " [-0.79529344 -0.60622466]\n",
      " [-0.81209186 -0.58352961]\n",
      " [-0.81149107  0.58436482]\n",
      " [-0.88495717 -0.46567243]\n",
      " [-0.50056561 -0.8656986 ]\n",
      " [-0.37351361  0.9276247 ]\n",
      " [ 0.99729022 -0.07356772]\n",
      " [ 0.51142488  0.85932799]\n",
      " [ 0.5497142   0.8353528 ]\n",
      " [ 0.48234506  0.8759813 ]\n",
      " [ 0.40389788  0.91480408]\n",
      " [ 0.36501666  0.93100099]\n",
      " [ 0.34192792  0.93972618]\n",
      " [ 0.47148484  0.88187417]\n",
      " [ 0.80084446  0.5988724 ]\n",
      " [ 0.99156524  0.12960853]\n",
      " [ 0.93821613 -0.34604984]\n",
      " [ 0.87282689 -0.48802994]\n",
      " [ 0.81192364 -0.58376366]]\n"
     ]
    }
   ],
   "source": [
    "data_scaled = normalize(data_scaled)\n",
    "\n",
    "print(data_scaled)"
   ]
  },
  {
   "cell_type": "code",
   "execution_count": 171,
   "id": "4a443d00",
   "metadata": {},
   "outputs": [
    {
     "name": "stdout",
     "output_type": "stream",
     "text": [
      "           x         y\n",
      "0  -0.884957 -0.465672\n",
      "1  -0.812092 -0.583530\n",
      "2  -0.811924 -0.583764\n",
      "3  -0.811491  0.584365\n",
      "4  -0.809258 -0.587453\n",
      "5  -0.806086 -0.591799\n",
      "6  -0.802248 -0.596991\n",
      "7  -0.797513 -0.603302\n",
      "8  -0.795293 -0.606225\n",
      "9  -0.791525 -0.611137\n",
      "10 -0.783717 -0.621118\n",
      "11 -0.500566 -0.865699\n",
      "12 -0.373514  0.927625\n",
      "13  0.341928  0.939726\n",
      "14  0.365017  0.931001\n",
      "15  0.403898  0.914804\n",
      "16  0.471485  0.881874\n",
      "17  0.482345  0.875981\n",
      "18  0.511425  0.859328\n",
      "19  0.549714  0.835353\n",
      "20  0.800844  0.598872\n",
      "21  0.811924 -0.583764\n",
      "22  0.872827 -0.488030\n",
      "23  0.938216 -0.346050\n",
      "24  0.991565  0.129609\n",
      "25  0.997290 -0.073568\n"
     ]
    }
   ],
   "source": [
    "data_path = data_path = os.path.join(PATH, \"../bullshit/normalised.csv\")\n",
    "df2 = pd.read_csv(data_path)\n",
    "print(df2)"
   ]
  },
  {
   "cell_type": "code",
   "execution_count": 172,
   "id": "c16b2c39",
   "metadata": {},
   "outputs": [
    {
     "data": {
      "image/png": "[encoded data removed]",
      "text/plain": [
       "<Figure size 432x288 with 1 Axes>"
      ]
     },
     "metadata": {
      "image/png": {
       "height": 248,
       "width": 386
      },
      "needs_background": "light"
     },
     "output_type": "display_data"
    }
   ],
   "source": [
    "xxx = df2[\"x\"]\n",
    "yyy = df2[\"y\"]\n",
    "\n",
    "plt.scatter(xxx,yyy)\n",
    "plt.plot(xxx,yyy)\n",
    "\n",
    "plt.show()"
   ]
  },
  {
   "cell_type": "markdown",
   "id": "652670d3",
   "metadata": {},
   "source": [
    "# omg so helpful lol"
   ]
  },
  {
   "cell_type": "markdown",
   "id": "fcc2b0b6",
   "metadata": {},
   "source": [
    "# train_test_split()"
   ]
  },
  {
   "cell_type": "code",
   "execution_count": 182,
   "id": "bc5033fc",
   "metadata": {},
   "outputs": [
    {
     "name": "stdout",
     "output_type": "stream",
     "text": [
      "x_train is\n",
      "[10, 20, 17, 12, 25, 0, 9, -3]\n",
      "\n",
      "y_train is\n",
      "[2, 4]\n",
      "\n",
      "y_train\n",
      "[6, 1, 8, 3, 10, 5, 4, 7]\n",
      "\n",
      "y_test[9, 2]\n"
     ]
    }
   ],
   "source": [
    "from sklearn.model_selection import train_test_split\n",
    "data = [20, 4, 12, 9, 0, 10, -3, 17, 2, 25]\n",
    "output = [1, 2, 3, 4, 5, 6, 7, 8, 9, 10]\n",
    "\n",
    "x_train, x_test, y_train, y_test = train_test_split(data, output, test_size = 0.20, random_state = RNG_SEED)\n",
    "\n",
    "print(f\"x_train is\\n{x_train}\\n\\ny_train is\\n{x_test}\\n\\ny_train\\n{y_train}\\n\\ny_test{y_test}\")"
   ]
  },
  {
   "cell_type": "markdown",
   "id": "497708d4",
   "metadata": {},
   "source": [
    "# generate_features()"
   ]
  },
  {
   "cell_type": "code",
   "execution_count": null,
   "id": "e41f9a79",
   "metadata": {},
   "outputs": [],
   "source": []
  },
  {
   "cell_type": "code",
   "execution_count": null,
   "id": "0dfeeb25",
   "metadata": {},
   "outputs": [],
   "source": []
  },
  {
   "cell_type": "markdown",
   "id": "14094651",
   "metadata": {},
   "source": [
    "# for model_name, model in classic_model_names.items():"
   ]
  },
  {
   "cell_type": "code",
   "execution_count": 185,
   "id": "7cdda49c",
   "metadata": {},
   "outputs": [
    {
     "name": "stdout",
     "output_type": "stream",
     "text": [
      "dict_items([('brand', 'Ford'), ('model', 'Mustang'), ('year', 1964)])\n",
      "\n",
      "\n",
      "\n",
      "\n",
      " car is\n",
      "{'brand': 'Ford', 'model': 'Mustang', 'year': 1964}\n"
     ]
    }
   ],
   "source": [
    "#.items() returns key:value dictionary stuff as tuples lists\n",
    "car = {\n",
    "  \"brand\": \"Ford\",\n",
    "  \"model\": \"Mustang\",\n",
    "  \"year\": 1964\n",
    "}\n",
    "\n",
    "x = car.items()\n",
    "\n",
    "print(x)\n",
    "print(f\"\\n\\n\\n\\n car is\\n{car}\")"
   ]
  },
  {
   "cell_type": "code",
   "execution_count": null,
   "id": "4e44675c",
   "metadata": {},
   "outputs": [],
   "source": []
  }
 ],
 "metadata": {
  "kernelspec": {
   "display_name": "Python 3 (ipykernel)",
   "language": "python",
   "name": "python3"
  },
  "language_info": {
   "codemirror_mode": {
    "name": "ipython",
    "version": 3
   },
   "file_extension": ".py",
   "mimetype": "text/x-python",
   "name": "python",
   "nbconvert_exporter": "python",
   "pygments_lexer": "ipython3",
   "version": "3.9.7"
  }
 },
 "nbformat": 4,
 "nbformat_minor": 5
}
