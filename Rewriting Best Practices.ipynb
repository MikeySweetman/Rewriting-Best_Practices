{
 "cells": [
  {
   "cell_type": "markdown",
   "id": "062860f3",
   "metadata": {},
   "source": [
    "# Best Practices: Rewrtiting this notebook using my own code\n",
    "\n",
    "Based off the paper \"Machine Learning for Materials Scientists: An Introductory Guide toward Best Practices\"\n",
    "I am creating my own notebooks on machine learning/train-validate-test splitting etc.\n",
    "The aim of this is to become familiar with packages I have not used before and the general process of creating code that can be used to analyse chemical data available\n",
    "\n",
    "This focus for these notebooks is not to create the most effcient code, but rather create code which helps me learn and understand this procedure, get familiar with new packages, and provide an example to look back on for future reference.\n",
    "This code will therefore be heavily commented in order to make everything extremely explicit for myself in both learning and understanding while I write this, and in order to help me understand what I am doing when reading this again in future"
   ]
  },
  {
   "cell_type": "markdown",
   "id": "a480c9cf",
   "metadata": {},
   "source": [
    "# Data loading, cleanup and processing\n",
    "\n",
    "The first step to a ML project is to obtain the dataset you will be working with. \n",
    "There are many repositories for materials science-specific data (whether online or offline)---consult the accompanying paper for a list of the more commonly used ones.\n",
    "\n",
    "Once you have identified the repository and dataset you will use for your project, you will have to download it to your local machine, or establish a way to reliably access the dataset.\n",
    "Consult the documentation of the repository for how to do this.\n",
    "\n",
    "For this tutorial, we have collected heat capacity ($C_p$) data from the [NIST-JANAF Thermochemical Tables](https://doi.org/10.18434/T42S31)."
   ]
  },
  {
   "cell_type": "code",
   "execution_count": 1,
   "id": "853aaa5a",
   "metadata": {},
   "outputs": [],
   "source": [
    "#importing libraries\n",
    "\n",
    "import os                #This module provides a portable way of using operating system dependent functionality\n",
    "\n",
    "import numpy as np\n",
    "\n",
    "import pandas as pd       #Pandas is a Python library used for working with data sets. \n",
    "                          #It has functions for analyzing, cleaning, exploring, and manipulating data.\n",
    "    \n",
    "import matplotlib.pyplot as plt\n",
    "\n",
    "%matplotlib inline \n",
    "#causes graphs to be shown inline in python (basically pl.show()) is no longer needed when graphing)\n",
    "#This is a bit redundant for the current jupyter as having import matplotlib.pyplot as plt \n",
    "#basically calls this already, but it is good practice to have it in to make everything explicit\n",
    "        \n",
    "%config InlineBackend.figure_format='retina' #displays plots at higher resolution (retina == retina display)\n",
    "                                             #on non retina displays this just makes graphs bigger\n",
    "                                             #NOT REALLY SURE ABOUT THIS NEED TO LOOK INTO!!!\n",
    "        \n",
    "\n",
    "from pandas_profiling import ProfileReport   #Pandas works with DataFrame(basically a spreadsheet)\n",
    "                                             #ProfileReport allows fucntions to be used which are very helpful\n",
    "                                             #in interacting with this datafram\n",
    "                                             #NOT REALLY SURE ABOUT THIS NEED TO LOOK INTO!!!"
   ]
  },
  {
   "cell_type": "markdown",
   "id": "ac3ac353",
   "metadata": {},
   "source": [
    "## Load data\n",
    "\n",
    "Using Pandas, we read in the dataset into a DataFrame. \n",
    "\n",
    "We also print the shape of the DataFrame, which indicates the number of rows and columns in this dataset."
   ]
  },
  {
   "cell_type": "code",
   "execution_count": 5,
   "id": "171b3004",
   "metadata": {},
   "outputs": [
    {
     "name": "stdout",
     "output_type": "stream",
     "text": [
      "C:\\Users\\sweet\\Desktop\\FYP\\code\\../data_for_notebook_bestpractice/cp_data_demo.csv\n"
     ]
    }
   ],
   "source": [
    "PATH = os.getcwd() #The os.getcwd() method is used to get the current working directory of a process.\n",
    "                   #current working directory is C:\\Users\\sweet\\Desktop\\FYP\\code\n",
    "\n",
    "data_path = os.path.join(PATH, '../data_for_notebook_bestpractice/cp_data_demo.csv') #links this path and\n",
    "#'../data_for_notebook_bestpractice/cp_data_demo.csv' with cwd\n",
    "#NOCLUE WHY .. AND FORWARD SLASHES ARE USED\n",
    " \n",
    "\n",
    "print(data_path)"
   ]
  },
  {
   "cell_type": "code",
   "execution_count": null,
   "id": "7a44b17c",
   "metadata": {},
   "outputs": [],
   "source": []
  }
 ],
 "metadata": {
  "kernelspec": {
   "display_name": "Python 3 (ipykernel)",
   "language": "python",
   "name": "python3"
  },
  "language_info": {
   "codemirror_mode": {
    "name": "ipython",
    "version": 3
   },
   "file_extension": ".py",
   "mimetype": "text/x-python",
   "name": "python",
   "nbconvert_exporter": "python",
   "pygments_lexer": "ipython3",
   "version": "3.9.7"
  }
 },
 "nbformat": 4,
 "nbformat_minor": 5
}
